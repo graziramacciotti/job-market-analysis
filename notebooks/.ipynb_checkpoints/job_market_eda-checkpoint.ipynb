{
 "cells": [
  {
   "cell_type": "code",
   "execution_count": null,
   "id": "05c9f613-9f30-4768-9ffe-ae12891b2e5f",
   "metadata": {},
   "outputs": [],
   "source": [
    "import pandas as pd\n",
    "import matplotlib.pyplot as plt\n",
    "import seaborn as sns\n",
    "\n",
    "# Load dataset\n",
    "df = pd.read_csv('../data/ds_salaries.csv')\n",
    "df.head()\n",
    "df.info()\n",
    "df.describe()\n",
    "df['job_title'].value_counts().head(10).plot(kind='bar')\n",
    "plt.title(\"Top 10 Job Titles\")\n",
    "plt.xticks(rotation=45)\n",
    "plt.tight_layout()\n",
    "plt.show()\n",
    "df.groupby('job_title')['salary_in_usd'].mean().sort_values(ascending=False).head(10).plot(kind='bar')\n",
    "plt.title(\"Top 10 Highest Paying Roles (USD)\")\n",
    "plt.xticks(rotation=45)\n",
    "plt.tight_layout()\n",
    "plt.show()\n",
    "sns.countplot(x='remote_ratio', hue='employment_type', data=df)\n",
    "plt.title(\"Remote Ratio by Employment Type\")\n",
    "plt.show()\n",
    "sns.boxplot(x='experience_level', y='salary_in_usd', data=df)\n",
    "plt.title(\"Salary Distribution by Experience Level\")\n",
    "plt.show()\n"
   ]
  }
 ],
 "metadata": {
  "kernelspec": {
   "display_name": "Python 3 (Job Market)",
   "language": "python",
   "name": "jobmarket"
  },
  "language_info": {
   "codemirror_mode": {
    "name": "ipython",
    "version": 3
   },
   "file_extension": ".py",
   "mimetype": "text/x-python",
   "name": "python",
   "nbconvert_exporter": "python",
   "pygments_lexer": "ipython3",
   "version": "3.13.6"
  }
 },
 "nbformat": 4,
 "nbformat_minor": 5
}
