{
 "cells": [
  {
   "cell_type": "markdown",
   "id": "6a3705b0-5c1b-4562-9647-0f96243845e1",
   "metadata": {},
   "source": [
    "# 💼 Data Science Job Market Analysis\n",
    "\n",
    "This project analyzes data science job listings and salaries to explore job titles, salary trends, experience levels, remote work, and more."
   ]
  },
  {
   "cell_type": "code",
   "execution_count": null,
   "id": "827543d0-24e8-462f-a2ee-85582974bcec",
   "metadata": {},
   "outputs": [],
   "source": [
    "import pandas as pd\n",
    "import matplotlib.pyplot as plt\n",
    "import seaborn as sns\n",
    "\n",
    "plt.style.use('ggplot')"
   ]
  },
  {
   "cell_type": "code",
   "execution_count": null,
   "id": "3fbfef8f-a121-46be-ad04-1aac41bb9c5a",
   "metadata": {},
   "outputs": [],
   "source": [
    "df = pd.read_csv(\"data/ds_salaries.csv\")\n",
    "df.info()"
   ]
  },
  {
   "cell_type": "markdown",
   "id": "5055e410-91ef-4592-b98d-898daaf77230",
   "metadata": {},
   "source": [
    "## 🧹 Clean the Data\n",
    "\n",
    "Remove the unnamed index column."
   ]
  },
  {
   "cell_type": "code",
   "execution_count": null,
   "id": "37d8a9be-3cde-4a06-9a59-d9892bb0a819",
   "metadata": {},
   "outputs": [],
   "source": [
    "df = df.drop(columns='Unnamed: 0')\n",
    "df.head()"
   ]
  },
  {
   "cell_type": "markdown",
   "id": "886829bf-490c-4677-9763-98f8176950fd",
   "metadata": {},
   "source": [
    "## 👔 Top 10 Most Common Job Titles"
   ]
  },
  {
   "cell_type": "code",
   "execution_count": null,
   "id": "b5cdd47c-9382-4de1-8a8b-f0742c5c7625",
   "metadata": {},
   "outputs": [],
   "source": [
    "df['job_title'].value_counts().head(10).plot(kind='barh', figsize=(8,5))\n",
    "plt.title(\"Top 10 Job Titles\")\n",
    "plt.xlabel(\"Count\")\n",
    "plt.ylabel(\"Job Title\")\n",
    "plt.show()"
   ]
  },
  {
   "cell_type": "markdown",
   "id": "1486d66c-a0e5-4b43-a1ff-b28c68d66843",
   "metadata": {},
   "source": [
    "## 📈 Salary by Experience Level"
   ]
  },
  {
   "cell_type": "code",
   "execution_count": null,
   "id": "e45c4321-694e-4641-bd79-62bdc8225411",
   "metadata": {},
   "outputs": [],
   "source": [
    "sns.boxplot(data=df, x='experience_level', y='salary_in_usd')\n",
    "plt.title(\"Salary Distribution by Experience Level\")\n",
    "plt.show()"
   ]
  },
  {
   "cell_type": "markdown",
   "id": "06d47e86-5789-46ef-9c6a-01886b8afa2d",
   "metadata": {},
   "source": [
    "## 🌍 Remote Work Ratio"
   ]
  },
  {
   "cell_type": "code",
   "execution_count": null,
   "id": "c5c0dfd0-973f-48f4-8074-9437721a089f",
   "metadata": {},
   "outputs": [],
   "source": [
    "df['remote_ratio'].value_counts(normalize=True) * 100"
   ]
  },
  {
   "cell_type": "markdown",
   "id": "66bc6cbc-1790-4e96-a42c-f5d36ba3508d",
   "metadata": {},
   "source": [
    "## 💸 Top 10 Highest Paying Roles"
   ]
  },
  {
   "cell_type": "code",
   "execution_count": null,
   "id": "da7a70ef-b916-4ab6-a666-e824adebda64",
   "metadata": {},
   "outputs": [],
   "source": [
    "df.groupby('job_title')['salary_in_usd'].mean().sort_values(ascending=False).head(10)"
   ]
  },
  {
   "cell_type": "markdown",
   "id": "de40c8d9-3301-40d8-8c5c-dc9b26ff3e1f",
   "metadata": {},
   "source": [
    "## ✅ Conclusions\n",
    "\n",
    "- Data Scientists and Engineers are the most common job roles.\n",
    "- Executive-level roles (EX) earn significantly more.\n",
    "- Most jobs are remote-friendly.\n",
    "- Salaries vary heavily based on job title and experience.\n",
    "\n",
    "This analysis gives insights into the structure of data science careers in the market."
   ]
  }
 ],
 "metadata": {
  "kernelspec": {
   "display_name": "Python 3 (Job Market)",
   "language": "python",
   "name": "jobmarket"
  },
  "language_info": {
   "codemirror_mode": {
    "name": "ipython",
    "version": 3
   },
   "file_extension": ".py",
   "mimetype": "text/x-python",
   "name": "python",
   "nbconvert_exporter": "python",
   "pygments_lexer": "ipython3",
   "version": "3.13.6"
  }
 },
 "nbformat": 4,
 "nbformat_minor": 5
}
